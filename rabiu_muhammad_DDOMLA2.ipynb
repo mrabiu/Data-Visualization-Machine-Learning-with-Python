{
 "cells": [
  {
   "cell_type": "code",
   "execution_count": 38,
   "id": "8067074e",
   "metadata": {},
   "outputs": [],
   "source": [
    "import numpy as np\n",
    "import pandas as pd\n",
    "import seaborn as sns\n",
    "import matplotlib.pyplot as plt\n",
    "from sklearn import linear_model\n",
    "from sklearn.linear_model import Ridge\n",
    "from sklearn.linear_model import LinearRegression\n",
    "from sklearn.linear_model import LogisticRegression\n",
    "from sklearn.model_selection import train_test_split\n",
    "from sklearn.metrics import confusion_matrix, accuracy_score\n",
    "from sklearn.metrics import mean_squared_error\n",
    "import warnings\n",
    "warnings.filterwarnings(\"ignore\")"
   ]
  },
  {
   "cell_type": "markdown",
   "id": "8af17cdb",
   "metadata": {},
   "source": [
    "COVID_19 DATA"
   ]
  },
  {
   "cell_type": "markdown",
   "id": "88dfb0e6",
   "metadata": {},
   "source": [
    "#### (a)Use the available data for 2021 for Angola, to predict the number of New_cases for November 20, 2021 and November 21, 2021 for Angola."
   ]
  },
  {
   "cell_type": "code",
   "execution_count": 13,
   "id": "3b479998",
   "metadata": {},
   "outputs": [
    {
     "data": {
      "text/html": [
       "<div>\n",
       "<style scoped>\n",
       "    .dataframe tbody tr th:only-of-type {\n",
       "        vertical-align: middle;\n",
       "    }\n",
       "\n",
       "    .dataframe tbody tr th {\n",
       "        vertical-align: top;\n",
       "    }\n",
       "\n",
       "    .dataframe thead th {\n",
       "        text-align: right;\n",
       "    }\n",
       "</style>\n",
       "<table border=\"1\" class=\"dataframe\">\n",
       "  <thead>\n",
       "    <tr style=\"text-align: right;\">\n",
       "      <th></th>\n",
       "      <th>Date_reported</th>\n",
       "      <th>Country_code</th>\n",
       "      <th>Country</th>\n",
       "      <th>WHO_region</th>\n",
       "      <th>New_cases</th>\n",
       "      <th>Cumulative_cases</th>\n",
       "      <th>New_deaths</th>\n",
       "      <th>Cumulative_deaths</th>\n",
       "    </tr>\n",
       "  </thead>\n",
       "  <tbody>\n",
       "    <tr>\n",
       "      <th>0</th>\n",
       "      <td>2020-01-03</td>\n",
       "      <td>AF</td>\n",
       "      <td>Afghanistan</td>\n",
       "      <td>EMRO</td>\n",
       "      <td>0</td>\n",
       "      <td>0</td>\n",
       "      <td>0</td>\n",
       "      <td>0</td>\n",
       "    </tr>\n",
       "    <tr>\n",
       "      <th>1</th>\n",
       "      <td>2020-01-04</td>\n",
       "      <td>AF</td>\n",
       "      <td>Afghanistan</td>\n",
       "      <td>EMRO</td>\n",
       "      <td>0</td>\n",
       "      <td>0</td>\n",
       "      <td>0</td>\n",
       "      <td>0</td>\n",
       "    </tr>\n",
       "    <tr>\n",
       "      <th>2</th>\n",
       "      <td>2020-01-05</td>\n",
       "      <td>AF</td>\n",
       "      <td>Afghanistan</td>\n",
       "      <td>EMRO</td>\n",
       "      <td>0</td>\n",
       "      <td>0</td>\n",
       "      <td>0</td>\n",
       "      <td>0</td>\n",
       "    </tr>\n",
       "    <tr>\n",
       "      <th>3</th>\n",
       "      <td>2020-01-06</td>\n",
       "      <td>AF</td>\n",
       "      <td>Afghanistan</td>\n",
       "      <td>EMRO</td>\n",
       "      <td>0</td>\n",
       "      <td>0</td>\n",
       "      <td>0</td>\n",
       "      <td>0</td>\n",
       "    </tr>\n",
       "    <tr>\n",
       "      <th>4</th>\n",
       "      <td>2020-01-07</td>\n",
       "      <td>AF</td>\n",
       "      <td>Afghanistan</td>\n",
       "      <td>EMRO</td>\n",
       "      <td>0</td>\n",
       "      <td>0</td>\n",
       "      <td>0</td>\n",
       "      <td>0</td>\n",
       "    </tr>\n",
       "  </tbody>\n",
       "</table>\n",
       "</div>"
      ],
      "text/plain": [
       "  Date_reported Country_code      Country WHO_region  New_cases  \\\n",
       "0    2020-01-03           AF  Afghanistan       EMRO          0   \n",
       "1    2020-01-04           AF  Afghanistan       EMRO          0   \n",
       "2    2020-01-05           AF  Afghanistan       EMRO          0   \n",
       "3    2020-01-06           AF  Afghanistan       EMRO          0   \n",
       "4    2020-01-07           AF  Afghanistan       EMRO          0   \n",
       "\n",
       "   Cumulative_cases  New_deaths  Cumulative_deaths  \n",
       "0                 0           0                  0  \n",
       "1                 0           0                  0  \n",
       "2                 0           0                  0  \n",
       "3                 0           0                  0  \n",
       "4                 0           0                  0  "
      ]
     },
     "execution_count": 13,
     "metadata": {},
     "output_type": "execute_result"
    }
   ],
   "source": [
    "cov=pd.read_csv(\"WHO-COVID-19-global-data.csv\")\n",
    "cov.head()"
   ]
  },
  {
   "cell_type": "code",
   "execution_count": 14,
   "id": "96476666",
   "metadata": {},
   "outputs": [
    {
     "data": {
      "text/html": [
       "<div>\n",
       "<style scoped>\n",
       "    .dataframe tbody tr th:only-of-type {\n",
       "        vertical-align: middle;\n",
       "    }\n",
       "\n",
       "    .dataframe tbody tr th {\n",
       "        vertical-align: top;\n",
       "    }\n",
       "\n",
       "    .dataframe thead th {\n",
       "        text-align: right;\n",
       "    }\n",
       "</style>\n",
       "<table border=\"1\" class=\"dataframe\">\n",
       "  <thead>\n",
       "    <tr style=\"text-align: right;\">\n",
       "      <th></th>\n",
       "      <th>Date_reported</th>\n",
       "      <th>Country_code</th>\n",
       "      <th>Country</th>\n",
       "      <th>WHO_region</th>\n",
       "      <th>New_cases</th>\n",
       "      <th>Cumulative_cases</th>\n",
       "      <th>New_deaths</th>\n",
       "      <th>Cumulative_deaths</th>\n",
       "    </tr>\n",
       "  </thead>\n",
       "  <tbody>\n",
       "    <tr>\n",
       "      <th>4093</th>\n",
       "      <td>2021-11-01</td>\n",
       "      <td>AO</td>\n",
       "      <td>Angola</td>\n",
       "      <td>AFRO</td>\n",
       "      <td>59</td>\n",
       "      <td>64433</td>\n",
       "      <td>2</td>\n",
       "      <td>1710</td>\n",
       "    </tr>\n",
       "    <tr>\n",
       "      <th>4094</th>\n",
       "      <td>2021-11-02</td>\n",
       "      <td>AO</td>\n",
       "      <td>Angola</td>\n",
       "      <td>AFRO</td>\n",
       "      <td>25</td>\n",
       "      <td>64458</td>\n",
       "      <td>3</td>\n",
       "      <td>1713</td>\n",
       "    </tr>\n",
       "    <tr>\n",
       "      <th>4095</th>\n",
       "      <td>2021-11-03</td>\n",
       "      <td>AO</td>\n",
       "      <td>Angola</td>\n",
       "      <td>AFRO</td>\n",
       "      <td>29</td>\n",
       "      <td>64487</td>\n",
       "      <td>0</td>\n",
       "      <td>1713</td>\n",
       "    </tr>\n",
       "    <tr>\n",
       "      <th>4096</th>\n",
       "      <td>2021-11-04</td>\n",
       "      <td>AO</td>\n",
       "      <td>Angola</td>\n",
       "      <td>AFRO</td>\n",
       "      <td>46</td>\n",
       "      <td>64533</td>\n",
       "      <td>3</td>\n",
       "      <td>1716</td>\n",
       "    </tr>\n",
       "    <tr>\n",
       "      <th>4097</th>\n",
       "      <td>2021-11-05</td>\n",
       "      <td>AO</td>\n",
       "      <td>Angola</td>\n",
       "      <td>AFRO</td>\n",
       "      <td>50</td>\n",
       "      <td>64583</td>\n",
       "      <td>2</td>\n",
       "      <td>1718</td>\n",
       "    </tr>\n",
       "    <tr>\n",
       "      <th>4098</th>\n",
       "      <td>2021-11-06</td>\n",
       "      <td>AO</td>\n",
       "      <td>Angola</td>\n",
       "      <td>AFRO</td>\n",
       "      <td>29</td>\n",
       "      <td>64612</td>\n",
       "      <td>1</td>\n",
       "      <td>1719</td>\n",
       "    </tr>\n",
       "    <tr>\n",
       "      <th>4099</th>\n",
       "      <td>2021-11-07</td>\n",
       "      <td>AO</td>\n",
       "      <td>Angola</td>\n",
       "      <td>AFRO</td>\n",
       "      <td>42</td>\n",
       "      <td>64654</td>\n",
       "      <td>0</td>\n",
       "      <td>1719</td>\n",
       "    </tr>\n",
       "    <tr>\n",
       "      <th>4100</th>\n",
       "      <td>2021-11-08</td>\n",
       "      <td>AO</td>\n",
       "      <td>Angola</td>\n",
       "      <td>AFRO</td>\n",
       "      <td>20</td>\n",
       "      <td>64674</td>\n",
       "      <td>1</td>\n",
       "      <td>1720</td>\n",
       "    </tr>\n",
       "    <tr>\n",
       "      <th>4101</th>\n",
       "      <td>2021-11-09</td>\n",
       "      <td>AO</td>\n",
       "      <td>Angola</td>\n",
       "      <td>AFRO</td>\n",
       "      <td>50</td>\n",
       "      <td>64724</td>\n",
       "      <td>1</td>\n",
       "      <td>1721</td>\n",
       "    </tr>\n",
       "    <tr>\n",
       "      <th>4102</th>\n",
       "      <td>2021-11-10</td>\n",
       "      <td>AO</td>\n",
       "      <td>Angola</td>\n",
       "      <td>AFRO</td>\n",
       "      <td>38</td>\n",
       "      <td>64762</td>\n",
       "      <td>2</td>\n",
       "      <td>1723</td>\n",
       "    </tr>\n",
       "    <tr>\n",
       "      <th>4103</th>\n",
       "      <td>2021-11-11</td>\n",
       "      <td>AO</td>\n",
       "      <td>Angola</td>\n",
       "      <td>AFRO</td>\n",
       "      <td>0</td>\n",
       "      <td>64762</td>\n",
       "      <td>0</td>\n",
       "      <td>1723</td>\n",
       "    </tr>\n",
       "    <tr>\n",
       "      <th>4104</th>\n",
       "      <td>2021-11-12</td>\n",
       "      <td>AO</td>\n",
       "      <td>Angola</td>\n",
       "      <td>AFRO</td>\n",
       "      <td>95</td>\n",
       "      <td>64857</td>\n",
       "      <td>2</td>\n",
       "      <td>1725</td>\n",
       "    </tr>\n",
       "    <tr>\n",
       "      <th>4105</th>\n",
       "      <td>2021-11-13</td>\n",
       "      <td>AO</td>\n",
       "      <td>Angola</td>\n",
       "      <td>AFRO</td>\n",
       "      <td>18</td>\n",
       "      <td>64875</td>\n",
       "      <td>1</td>\n",
       "      <td>1726</td>\n",
       "    </tr>\n",
       "    <tr>\n",
       "      <th>4106</th>\n",
       "      <td>2021-11-14</td>\n",
       "      <td>AO</td>\n",
       "      <td>Angola</td>\n",
       "      <td>AFRO</td>\n",
       "      <td>24</td>\n",
       "      <td>64899</td>\n",
       "      <td>1</td>\n",
       "      <td>1727</td>\n",
       "    </tr>\n",
       "    <tr>\n",
       "      <th>4107</th>\n",
       "      <td>2021-11-15</td>\n",
       "      <td>AO</td>\n",
       "      <td>Angola</td>\n",
       "      <td>AFRO</td>\n",
       "      <td>14</td>\n",
       "      <td>64913</td>\n",
       "      <td>0</td>\n",
       "      <td>1727</td>\n",
       "    </tr>\n",
       "    <tr>\n",
       "      <th>4108</th>\n",
       "      <td>2021-11-16</td>\n",
       "      <td>AO</td>\n",
       "      <td>Angola</td>\n",
       "      <td>AFRO</td>\n",
       "      <td>0</td>\n",
       "      <td>64913</td>\n",
       "      <td>0</td>\n",
       "      <td>1727</td>\n",
       "    </tr>\n",
       "    <tr>\n",
       "      <th>4109</th>\n",
       "      <td>2021-11-17</td>\n",
       "      <td>AO</td>\n",
       "      <td>Angola</td>\n",
       "      <td>AFRO</td>\n",
       "      <td>27</td>\n",
       "      <td>64940</td>\n",
       "      <td>2</td>\n",
       "      <td>1729</td>\n",
       "    </tr>\n",
       "  </tbody>\n",
       "</table>\n",
       "</div>"
      ],
      "text/plain": [
       "     Date_reported Country_code Country WHO_region  New_cases  \\\n",
       "4093    2021-11-01           AO  Angola       AFRO         59   \n",
       "4094    2021-11-02           AO  Angola       AFRO         25   \n",
       "4095    2021-11-03           AO  Angola       AFRO         29   \n",
       "4096    2021-11-04           AO  Angola       AFRO         46   \n",
       "4097    2021-11-05           AO  Angola       AFRO         50   \n",
       "4098    2021-11-06           AO  Angola       AFRO         29   \n",
       "4099    2021-11-07           AO  Angola       AFRO         42   \n",
       "4100    2021-11-08           AO  Angola       AFRO         20   \n",
       "4101    2021-11-09           AO  Angola       AFRO         50   \n",
       "4102    2021-11-10           AO  Angola       AFRO         38   \n",
       "4103    2021-11-11           AO  Angola       AFRO          0   \n",
       "4104    2021-11-12           AO  Angola       AFRO         95   \n",
       "4105    2021-11-13           AO  Angola       AFRO         18   \n",
       "4106    2021-11-14           AO  Angola       AFRO         24   \n",
       "4107    2021-11-15           AO  Angola       AFRO         14   \n",
       "4108    2021-11-16           AO  Angola       AFRO          0   \n",
       "4109    2021-11-17           AO  Angola       AFRO         27   \n",
       "\n",
       "      Cumulative_cases  New_deaths  Cumulative_deaths  \n",
       "4093             64433           2               1710  \n",
       "4094             64458           3               1713  \n",
       "4095             64487           0               1713  \n",
       "4096             64533           3               1716  \n",
       "4097             64583           2               1718  \n",
       "4098             64612           1               1719  \n",
       "4099             64654           0               1719  \n",
       "4100             64674           1               1720  \n",
       "4101             64724           1               1721  \n",
       "4102             64762           2               1723  \n",
       "4103             64762           0               1723  \n",
       "4104             64857           2               1725  \n",
       "4105             64875           1               1726  \n",
       "4106             64899           1               1727  \n",
       "4107             64913           0               1727  \n",
       "4108             64913           0               1727  \n",
       "4109             64940           2               1729  "
      ]
     },
     "execution_count": 14,
     "metadata": {},
     "output_type": "execute_result"
    }
   ],
   "source": [
    "acov=cov[cov[\"Country\"]==\"Angola\"]\n",
    "ndata=acov[acov[\"Date_reported\"]==\"2021-11-01\"]\n",
    "id=ndata.index[0]\n",
    "agd=acov.loc[id:,:]\n",
    "agd"
   ]
  },
  {
   "cell_type": "code",
   "execution_count": 15,
   "id": "81d42ce3",
   "metadata": {},
   "outputs": [
    {
     "data": {
      "image/png": "[encoded data removed]",
      "text/plain": [
       "<Figure size 432x288 with 1 Axes>"
      ]
     },
     "metadata": {
      "needs_background": "light"
     },
     "output_type": "display_data"
    }
   ],
   "source": [
    "x=[x for x in range(1,len(agd)+1)]\n",
    "x=np.array(x)\n",
    "X=x.reshape(-1,1)\n",
    "y=agd.iloc[:,4].values\n",
    "y=y.reshape(-1,1)\n",
    "\n",
    "\n",
    "plt.plot(X,y,\"ro\");\n"
   ]
  },
  {
   "cell_type": "markdown",
   "id": "713200f0",
   "metadata": {},
   "source": [
    "##### Linear regression"
   ]
  },
  {
   "cell_type": "code",
   "execution_count": 16,
   "id": "b372e5f4",
   "metadata": {},
   "outputs": [
    {
     "data": {
      "text/plain": [
       "LinearRegression()"
      ]
     },
     "execution_count": 16,
     "metadata": {},
     "output_type": "execute_result"
    }
   ],
   "source": [
    "reg_model1 = LinearRegression()  \n",
    "reg_model1.fit(X, y) #training the algorithm"
   ]
  },
  {
   "cell_type": "code",
   "execution_count": 17,
   "id": "c8963f64",
   "metadata": {},
   "outputs": [
    {
     "name": "stdout",
     "output_type": "stream",
     "text": [
      "Model coefficients\n",
      "[47.125]\n",
      "[[-1.53676471]]\n",
      "    Actual  Predicted\n",
      "0       59  45.588235\n",
      "1       25  44.051471\n",
      "2       29  42.514706\n",
      "3       46  40.977941\n",
      "4       50  39.441176\n",
      "5       29  37.904412\n",
      "6       42  36.367647\n",
      "7       20  34.830882\n",
      "8       50  33.294118\n",
      "9       38  31.757353\n",
      "10       0  30.220588\n",
      "11      95  28.683824\n",
      "12      18  27.147059\n",
      "13      24  25.610294\n",
      "14      14  24.073529\n",
      "15       0  22.536765\n",
      "16      27  21.000000\n"
     ]
    },
    {
     "data": {
      "image/png": "[encoded data removed]",
      "text/plain": [
       "<Figure size 1152x720 with 1 Axes>"
      ]
     },
     "metadata": {
      "needs_background": "light"
     },
     "output_type": "display_data"
    }
   ],
   "source": [
    "#To retrieve the intercept:\n",
    "print(\"Model coefficients\")\n",
    "print(reg_model1.intercept_)\n",
    "#For retrieving the slope:\n",
    "print(reg_model1.coef_)\n",
    "y_pred = reg_model1.predict(X)\n",
    "df = pd.DataFrame({'Actual': y.flatten(), 'Predicted': y_pred.flatten()})\n",
    "print(df)\n",
    "df1 = df\n",
    "df1.plot(kind='bar',figsize=(16,10))\n",
    "plt.grid(which='major', linestyle='-', linewidth='0.5', color='green')\n",
    "plt.grid(which='minor', linestyle=':', linewidth='0.5', color='black')\n",
    "plt.show()\n"
   ]
  },
  {
   "cell_type": "markdown",
   "id": "284e0993",
   "metadata": {},
   "source": [
    "#### Prediction of New_cases for Angola on 20th and 21st November"
   ]
  },
  {
   "cell_type": "code",
   "execution_count": 70,
   "id": "ef36b5bc",
   "metadata": {},
   "outputs": [
    {
     "name": "stdout",
     "output_type": "stream",
     "text": [
      "New_cases on 20th November is : [16.38970588]\n",
      "New_cases on 21st November is : [14.85294118]\n"
     ]
    }
   ],
   "source": [
    "pred20=reg_model1.predict([[20]])\n",
    "pred21=reg_model1.predict([[21]])\n",
    "print(\"New_cases on 20th November is :\",pred20[0])\n",
    "print(\"New_cases on 21st November is :\",pred21[0])"
   ]
  },
  {
   "cell_type": "markdown",
   "id": "e8846f9f",
   "metadata": {},
   "source": [
    "##### Ridge regression"
   ]
  },
  {
   "cell_type": "code",
   "execution_count": 71,
   "id": "32b0b50d",
   "metadata": {},
   "outputs": [
    {
     "name": "stdout",
     "output_type": "stream",
     "text": [
      "444.35198242668525\n",
      "[[-1.53300733]]\n"
     ]
    }
   ],
   "source": [
    "#RIDGE Regression for Angola \n",
    "\n",
    "# import ridge regression from sklearn library\n",
    "from sklearn.linear_model import Ridge\n",
    " \n",
    "# Train the model\n",
    "ridgeR = Ridge(alpha = 1)\n",
    "ridgeR.fit(X,y)\n",
    "y_predr = ridgeR.predict(X)\n",
    " \n",
    "# calculate mean square error\n",
    "mean_squared_error_ridge = np.mean((y_predr - y)**2)\n",
    "print(mean_squared_error_ridge)\n",
    " \n",
    "# get ridge coefficient and print them\n",
    "print(ridgeR.coef_)"
   ]
  },
  {
   "cell_type": "code",
   "execution_count": 72,
   "id": "f2195876",
   "metadata": {},
   "outputs": [
    {
     "data": {
      "image/png": "[encoded data removed]",
      "text/plain": [
       "<Figure size 1152x720 with 1 Axes>"
      ]
     },
     "metadata": {
      "needs_background": "light"
     },
     "output_type": "display_data"
    }
   ],
   "source": [
    "d= {\"actual\":y.flatten(), \"predicted\":y_predr.flatten()}\n",
    "df2 = pd.DataFrame(d)\n",
    "df2.plot(kind='bar',figsize=(16,10))\n",
    "plt.grid(which='major', linestyle='-', linewidth='0.5', color='green')\n",
    "plt.grid(which='minor', linestyle=':', linewidth='0.5', color='black')\n",
    "plt.show()"
   ]
  },
  {
   "cell_type": "markdown",
   "id": "1560d0b6",
   "metadata": {},
   "source": [
    "#### (b) Considering the available data for 2021, what is the predicted average number of New_deathsfor the whole of Africa for November 20, 2021 and November 21, 2021?"
   ]
  },
  {
   "cell_type": "code",
   "execution_count": 73,
   "id": "72ebec97",
   "metadata": {},
   "outputs": [],
   "source": [
    "#Extracting data for Africa\n",
    "\n",
    "afcov=cov[cov[\"WHO_region\"]==\"AFRO\"]\n",
    "adata=afcov[afcov[\"Date_reported\"]>=\"2021-11-01\"]\n",
    "nd=adata.groupby(['Date_reported']).mean()\n",
    "y1=nd.iloc[:,2].values"
   ]
  },
  {
   "cell_type": "markdown",
   "id": "29e79dcc",
   "metadata": {},
   "source": [
    "#### Linear regression"
   ]
  },
  {
   "cell_type": "code",
   "execution_count": 74,
   "id": "59d588ad",
   "metadata": {},
   "outputs": [
    {
     "data": {
      "text/plain": [
       "LinearRegression()"
      ]
     },
     "execution_count": 74,
     "metadata": {},
     "output_type": "execute_result"
    }
   ],
   "source": [
    "reg_model2 = LinearRegression()  \n",
    "reg_model2.fit(X,y1) #training the algorithm"
   ]
  },
  {
   "cell_type": "code",
   "execution_count": 75,
   "id": "d5cb6f44",
   "metadata": {},
   "outputs": [
    {
     "name": "stdout",
     "output_type": "stream",
     "text": [
      "Model coefficients\n",
      "1.5625\n",
      "[-0.00759804]\n",
      "    Actual  Predicted\n",
      "0     0.82   1.554902\n",
      "1     1.04   1.547304\n",
      "2     2.42   1.539706\n",
      "3     1.68   1.532108\n",
      "4     1.60   1.524510\n",
      "5     1.68   1.516912\n",
      "6     1.36   1.509314\n",
      "7     1.12   1.501716\n",
      "8     1.74   1.494118\n",
      "9     2.36   1.486520\n",
      "10    1.78   1.478922\n",
      "11    1.44   1.471324\n",
      "12    1.64   1.463725\n",
      "13    0.88   1.456127\n",
      "14    0.90   1.448529\n",
      "15    1.18   1.440931\n",
      "16    1.76   1.433333\n"
     ]
    },
    {
     "data": {
      "image/png": "[encoded data removed]",
      "text/plain": [
       "<Figure size 1152x720 with 1 Axes>"
      ]
     },
     "metadata": {
      "needs_background": "light"
     },
     "output_type": "display_data"
    }
   ],
   "source": [
    "#To retrieve the intercept:\n",
    "print(\"Model coefficients\")\n",
    "print(reg_model2.intercept_)\n",
    "#For retrieving the slope:\n",
    "print(reg_model2.coef_)\n",
    "y_pred2 = reg_model2.predict(X)\n",
    "df = pd.DataFrame({'Actual': y1.flatten(), 'Predicted': y_pred2.flatten()})\n",
    "print(df)\n",
    "df1 = df\n",
    "df1.plot(kind='bar',figsize=(16,10))\n",
    "plt.grid(which='major', linestyle='-', linewidth='0.5', color='green')\n",
    "plt.grid(which='minor', linestyle=':', linewidth='0.5', color='black')\n",
    "plt.show()\n"
   ]
  },
  {
   "cell_type": "code",
   "execution_count": 76,
   "id": "c75111f2",
   "metadata": {},
   "outputs": [
    {
     "name": "stdout",
     "output_type": "stream",
     "text": [
      "The predicted number of New_deaths on 20th November is : [1.41053922]\n",
      "The predicted number of New_deaths on 21st November is : [1.40294118]\n"
     ]
    }
   ],
   "source": [
    "preda20=reg_model2.predict([[20]])\n",
    "preda21=reg_model2.predict([[21]])\n",
    "print(\"The predicted number of New_deaths on 20th November is :\",preda20)\n",
    "print(\"The predicted number of New_deaths on 21st November is :\",preda21)"
   ]
  },
  {
   "cell_type": "markdown",
   "id": "2bc7ee8d",
   "metadata": {},
   "source": [
    "#### Coronary Heart Disease (CHD) in South Africa Data"
   ]
  },
  {
   "cell_type": "markdown",
   "id": "f24f4638",
   "metadata": {},
   "source": [
    "#### (a) Upload this data set and replace non-number data with a reasonable numerical representation"
   ]
  },
  {
   "cell_type": "code",
   "execution_count": 77,
   "id": "a6c6eb67",
   "metadata": {},
   "outputs": [
    {
     "data": {
      "text/html": [
       "<div>\n",
       "<style scoped>\n",
       "    .dataframe tbody tr th:only-of-type {\n",
       "        vertical-align: middle;\n",
       "    }\n",
       "\n",
       "    .dataframe tbody tr th {\n",
       "        vertical-align: top;\n",
       "    }\n",
       "\n",
       "    .dataframe thead th {\n",
       "        text-align: right;\n",
       "    }\n",
       "</style>\n",
       "<table border=\"1\" class=\"dataframe\">\n",
       "  <thead>\n",
       "    <tr style=\"text-align: right;\">\n",
       "      <th></th>\n",
       "      <th>row.names</th>\n",
       "      <th>sbp</th>\n",
       "      <th>tobacco</th>\n",
       "      <th>ldl</th>\n",
       "      <th>adiposity</th>\n",
       "      <th>famhist</th>\n",
       "      <th>typea</th>\n",
       "      <th>obesity</th>\n",
       "      <th>alcohol</th>\n",
       "      <th>age</th>\n",
       "      <th>chd</th>\n",
       "    </tr>\n",
       "  </thead>\n",
       "  <tbody>\n",
       "    <tr>\n",
       "      <th>0</th>\n",
       "      <td>1</td>\n",
       "      <td>160</td>\n",
       "      <td>12.00</td>\n",
       "      <td>5.73</td>\n",
       "      <td>23.11</td>\n",
       "      <td>Present</td>\n",
       "      <td>49</td>\n",
       "      <td>25.30</td>\n",
       "      <td>97.20</td>\n",
       "      <td>52</td>\n",
       "      <td>1</td>\n",
       "    </tr>\n",
       "    <tr>\n",
       "      <th>1</th>\n",
       "      <td>2</td>\n",
       "      <td>144</td>\n",
       "      <td>0.01</td>\n",
       "      <td>4.41</td>\n",
       "      <td>28.61</td>\n",
       "      <td>Absent</td>\n",
       "      <td>55</td>\n",
       "      <td>28.87</td>\n",
       "      <td>2.06</td>\n",
       "      <td>63</td>\n",
       "      <td>1</td>\n",
       "    </tr>\n",
       "    <tr>\n",
       "      <th>2</th>\n",
       "      <td>3</td>\n",
       "      <td>118</td>\n",
       "      <td>0.08</td>\n",
       "      <td>3.48</td>\n",
       "      <td>32.28</td>\n",
       "      <td>Present</td>\n",
       "      <td>52</td>\n",
       "      <td>29.14</td>\n",
       "      <td>3.81</td>\n",
       "      <td>46</td>\n",
       "      <td>0</td>\n",
       "    </tr>\n",
       "    <tr>\n",
       "      <th>3</th>\n",
       "      <td>4</td>\n",
       "      <td>170</td>\n",
       "      <td>7.50</td>\n",
       "      <td>6.41</td>\n",
       "      <td>38.03</td>\n",
       "      <td>Present</td>\n",
       "      <td>51</td>\n",
       "      <td>31.99</td>\n",
       "      <td>24.26</td>\n",
       "      <td>58</td>\n",
       "      <td>1</td>\n",
       "    </tr>\n",
       "    <tr>\n",
       "      <th>4</th>\n",
       "      <td>5</td>\n",
       "      <td>134</td>\n",
       "      <td>13.60</td>\n",
       "      <td>3.50</td>\n",
       "      <td>27.78</td>\n",
       "      <td>Present</td>\n",
       "      <td>60</td>\n",
       "      <td>25.99</td>\n",
       "      <td>57.34</td>\n",
       "      <td>49</td>\n",
       "      <td>1</td>\n",
       "    </tr>\n",
       "  </tbody>\n",
       "</table>\n",
       "</div>"
      ],
      "text/plain": [
       "   row.names  sbp  tobacco   ldl  adiposity  famhist  typea  obesity  alcohol  \\\n",
       "0          1  160    12.00  5.73      23.11  Present     49    25.30    97.20   \n",
       "1          2  144     0.01  4.41      28.61   Absent     55    28.87     2.06   \n",
       "2          3  118     0.08  3.48      32.28  Present     52    29.14     3.81   \n",
       "3          4  170     7.50  6.41      38.03  Present     51    31.99    24.26   \n",
       "4          5  134    13.60  3.50      27.78  Present     60    25.99    57.34   \n",
       "\n",
       "   age  chd  \n",
       "0   52    1  \n",
       "1   63    1  \n",
       "2   46    0  \n",
       "3   58    1  \n",
       "4   49    1  "
      ]
     },
     "execution_count": 77,
     "metadata": {},
     "output_type": "execute_result"
    }
   ],
   "source": [
    "chd1=pd.read_csv(\"SAheart.data\")\n",
    "chd1.head()"
   ]
  },
  {
   "cell_type": "code",
   "execution_count": 78,
   "id": "df00b91f",
   "metadata": {},
   "outputs": [
    {
     "data": {
      "text/html": [
       "<div>\n",
       "<style scoped>\n",
       "    .dataframe tbody tr th:only-of-type {\n",
       "        vertical-align: middle;\n",
       "    }\n",
       "\n",
       "    .dataframe tbody tr th {\n",
       "        vertical-align: top;\n",
       "    }\n",
       "\n",
       "    .dataframe thead th {\n",
       "        text-align: right;\n",
       "    }\n",
       "</style>\n",
       "<table border=\"1\" class=\"dataframe\">\n",
       "  <thead>\n",
       "    <tr style=\"text-align: right;\">\n",
       "      <th></th>\n",
       "      <th>row.names</th>\n",
       "      <th>sbp</th>\n",
       "      <th>tobacco</th>\n",
       "      <th>ldl</th>\n",
       "      <th>adiposity</th>\n",
       "      <th>famhist</th>\n",
       "      <th>typea</th>\n",
       "      <th>obesity</th>\n",
       "      <th>alcohol</th>\n",
       "      <th>age</th>\n",
       "      <th>chd</th>\n",
       "    </tr>\n",
       "  </thead>\n",
       "  <tbody>\n",
       "    <tr>\n",
       "      <th>0</th>\n",
       "      <td>1</td>\n",
       "      <td>160</td>\n",
       "      <td>12.00</td>\n",
       "      <td>5.73</td>\n",
       "      <td>23.11</td>\n",
       "      <td>1</td>\n",
       "      <td>49</td>\n",
       "      <td>25.30</td>\n",
       "      <td>97.20</td>\n",
       "      <td>52</td>\n",
       "      <td>1</td>\n",
       "    </tr>\n",
       "    <tr>\n",
       "      <th>1</th>\n",
       "      <td>2</td>\n",
       "      <td>144</td>\n",
       "      <td>0.01</td>\n",
       "      <td>4.41</td>\n",
       "      <td>28.61</td>\n",
       "      <td>0</td>\n",
       "      <td>55</td>\n",
       "      <td>28.87</td>\n",
       "      <td>2.06</td>\n",
       "      <td>63</td>\n",
       "      <td>1</td>\n",
       "    </tr>\n",
       "    <tr>\n",
       "      <th>2</th>\n",
       "      <td>3</td>\n",
       "      <td>118</td>\n",
       "      <td>0.08</td>\n",
       "      <td>3.48</td>\n",
       "      <td>32.28</td>\n",
       "      <td>1</td>\n",
       "      <td>52</td>\n",
       "      <td>29.14</td>\n",
       "      <td>3.81</td>\n",
       "      <td>46</td>\n",
       "      <td>0</td>\n",
       "    </tr>\n",
       "    <tr>\n",
       "      <th>3</th>\n",
       "      <td>4</td>\n",
       "      <td>170</td>\n",
       "      <td>7.50</td>\n",
       "      <td>6.41</td>\n",
       "      <td>38.03</td>\n",
       "      <td>1</td>\n",
       "      <td>51</td>\n",
       "      <td>31.99</td>\n",
       "      <td>24.26</td>\n",
       "      <td>58</td>\n",
       "      <td>1</td>\n",
       "    </tr>\n",
       "    <tr>\n",
       "      <th>4</th>\n",
       "      <td>5</td>\n",
       "      <td>134</td>\n",
       "      <td>13.60</td>\n",
       "      <td>3.50</td>\n",
       "      <td>27.78</td>\n",
       "      <td>1</td>\n",
       "      <td>60</td>\n",
       "      <td>25.99</td>\n",
       "      <td>57.34</td>\n",
       "      <td>49</td>\n",
       "      <td>1</td>\n",
       "    </tr>\n",
       "    <tr>\n",
       "      <th>...</th>\n",
       "      <td>...</td>\n",
       "      <td>...</td>\n",
       "      <td>...</td>\n",
       "      <td>...</td>\n",
       "      <td>...</td>\n",
       "      <td>...</td>\n",
       "      <td>...</td>\n",
       "      <td>...</td>\n",
       "      <td>...</td>\n",
       "      <td>...</td>\n",
       "      <td>...</td>\n",
       "    </tr>\n",
       "    <tr>\n",
       "      <th>457</th>\n",
       "      <td>459</td>\n",
       "      <td>214</td>\n",
       "      <td>0.40</td>\n",
       "      <td>5.98</td>\n",
       "      <td>31.72</td>\n",
       "      <td>0</td>\n",
       "      <td>64</td>\n",
       "      <td>28.45</td>\n",
       "      <td>0.00</td>\n",
       "      <td>58</td>\n",
       "      <td>0</td>\n",
       "    </tr>\n",
       "    <tr>\n",
       "      <th>458</th>\n",
       "      <td>460</td>\n",
       "      <td>182</td>\n",
       "      <td>4.20</td>\n",
       "      <td>4.41</td>\n",
       "      <td>32.10</td>\n",
       "      <td>0</td>\n",
       "      <td>52</td>\n",
       "      <td>28.61</td>\n",
       "      <td>18.72</td>\n",
       "      <td>52</td>\n",
       "      <td>1</td>\n",
       "    </tr>\n",
       "    <tr>\n",
       "      <th>459</th>\n",
       "      <td>461</td>\n",
       "      <td>108</td>\n",
       "      <td>3.00</td>\n",
       "      <td>1.59</td>\n",
       "      <td>15.23</td>\n",
       "      <td>0</td>\n",
       "      <td>40</td>\n",
       "      <td>20.09</td>\n",
       "      <td>26.64</td>\n",
       "      <td>55</td>\n",
       "      <td>0</td>\n",
       "    </tr>\n",
       "    <tr>\n",
       "      <th>460</th>\n",
       "      <td>462</td>\n",
       "      <td>118</td>\n",
       "      <td>5.40</td>\n",
       "      <td>11.61</td>\n",
       "      <td>30.79</td>\n",
       "      <td>0</td>\n",
       "      <td>64</td>\n",
       "      <td>27.35</td>\n",
       "      <td>23.97</td>\n",
       "      <td>40</td>\n",
       "      <td>0</td>\n",
       "    </tr>\n",
       "    <tr>\n",
       "      <th>461</th>\n",
       "      <td>463</td>\n",
       "      <td>132</td>\n",
       "      <td>0.00</td>\n",
       "      <td>4.82</td>\n",
       "      <td>33.41</td>\n",
       "      <td>1</td>\n",
       "      <td>62</td>\n",
       "      <td>14.70</td>\n",
       "      <td>0.00</td>\n",
       "      <td>46</td>\n",
       "      <td>1</td>\n",
       "    </tr>\n",
       "  </tbody>\n",
       "</table>\n",
       "<p>462 rows × 11 columns</p>\n",
       "</div>"
      ],
      "text/plain": [
       "     row.names  sbp  tobacco    ldl  adiposity  famhist  typea  obesity  \\\n",
       "0            1  160    12.00   5.73      23.11        1     49    25.30   \n",
       "1            2  144     0.01   4.41      28.61        0     55    28.87   \n",
       "2            3  118     0.08   3.48      32.28        1     52    29.14   \n",
       "3            4  170     7.50   6.41      38.03        1     51    31.99   \n",
       "4            5  134    13.60   3.50      27.78        1     60    25.99   \n",
       "..         ...  ...      ...    ...        ...      ...    ...      ...   \n",
       "457        459  214     0.40   5.98      31.72        0     64    28.45   \n",
       "458        460  182     4.20   4.41      32.10        0     52    28.61   \n",
       "459        461  108     3.00   1.59      15.23        0     40    20.09   \n",
       "460        462  118     5.40  11.61      30.79        0     64    27.35   \n",
       "461        463  132     0.00   4.82      33.41        1     62    14.70   \n",
       "\n",
       "     alcohol  age  chd  \n",
       "0      97.20   52    1  \n",
       "1       2.06   63    1  \n",
       "2       3.81   46    0  \n",
       "3      24.26   58    1  \n",
       "4      57.34   49    1  \n",
       "..       ...  ...  ...  \n",
       "457     0.00   58    0  \n",
       "458    18.72   52    1  \n",
       "459    26.64   55    0  \n",
       "460    23.97   40    0  \n",
       "461     0.00   46    1  \n",
       "\n",
       "[462 rows x 11 columns]"
      ]
     },
     "execution_count": 78,
     "metadata": {},
     "output_type": "execute_result"
    }
   ],
   "source": [
    "#Replacing non-munber with a reasonable numerical representation\n",
    "\n",
    "\n",
    "chd1[\"famhist\"].replace(to_replace={'Present': 1, 'Absent': 0}, value=None, inplace=True, limit=None, regex=False)\n",
    "chd1"
   ]
  },
  {
   "cell_type": "markdown",
   "id": "23369792",
   "metadata": {},
   "source": [
    "#### (b) Train a logistic regressor to tell if a patient has high risk of CHD or not."
   ]
  },
  {
   "cell_type": "code",
   "execution_count": 41,
   "id": "5b34f5ab",
   "metadata": {},
   "outputs": [],
   "source": [
    "#Exctracting data\n",
    "\n",
    "Xh=chd1.iloc[:,1:10].values\n",
    "\n",
    "yh = chd1.iloc[:,10].values\n",
    "Xh_train, Xh_test, yh_train, yh_test = train_test_split(Xh, yh, test_size = 0.25, random_state = 0)"
   ]
  },
  {
   "cell_type": "code",
   "execution_count": 42,
   "id": "6e1a6d6a",
   "metadata": {},
   "outputs": [
    {
     "data": {
      "text/plain": [
       "LogisticRegression(random_state=0)"
      ]
     },
     "execution_count": 42,
     "metadata": {},
     "output_type": "execute_result"
    }
   ],
   "source": [
    "# Fitting Logistic Regression to the Training set\n",
    "classifier = LogisticRegression(random_state = 0, solver='lbfgs', multi_class='auto')\n",
    "classifier.fit(Xh_train, yh_train)"
   ]
  },
  {
   "cell_type": "code",
   "execution_count": 43,
   "id": "6055adf2",
   "metadata": {},
   "outputs": [
    {
     "data": {
      "text/html": [
       "<div>\n",
       "<style scoped>\n",
       "    .dataframe tbody tr th:only-of-type {\n",
       "        vertical-align: middle;\n",
       "    }\n",
       "\n",
       "    .dataframe tbody tr th {\n",
       "        vertical-align: top;\n",
       "    }\n",
       "\n",
       "    .dataframe thead th {\n",
       "        text-align: right;\n",
       "    }\n",
       "</style>\n",
       "<table border=\"1\" class=\"dataframe\">\n",
       "  <thead>\n",
       "    <tr style=\"text-align: right;\">\n",
       "      <th></th>\n",
       "      <th>Test</th>\n",
       "      <th>Predicted</th>\n",
       "      <th>0</th>\n",
       "      <th>1</th>\n",
       "    </tr>\n",
       "  </thead>\n",
       "  <tbody>\n",
       "    <tr>\n",
       "      <th>95</th>\n",
       "      <td>1</td>\n",
       "      <td>1</td>\n",
       "      <td>0.25</td>\n",
       "      <td>0.75</td>\n",
       "    </tr>\n",
       "    <tr>\n",
       "      <th>91</th>\n",
       "      <td>0</td>\n",
       "      <td>0</td>\n",
       "      <td>0.65</td>\n",
       "      <td>0.35</td>\n",
       "    </tr>\n",
       "    <tr>\n",
       "      <th>78</th>\n",
       "      <td>0</td>\n",
       "      <td>0</td>\n",
       "      <td>0.95</td>\n",
       "      <td>0.05</td>\n",
       "    </tr>\n",
       "    <tr>\n",
       "      <th>29</th>\n",
       "      <td>1</td>\n",
       "      <td>1</td>\n",
       "      <td>0.35</td>\n",
       "      <td>0.65</td>\n",
       "    </tr>\n",
       "    <tr>\n",
       "      <th>61</th>\n",
       "      <td>0</td>\n",
       "      <td>0</td>\n",
       "      <td>0.66</td>\n",
       "      <td>0.34</td>\n",
       "    </tr>\n",
       "    <tr>\n",
       "      <th>89</th>\n",
       "      <td>0</td>\n",
       "      <td>0</td>\n",
       "      <td>0.63</td>\n",
       "      <td>0.37</td>\n",
       "    </tr>\n",
       "    <tr>\n",
       "      <th>45</th>\n",
       "      <td>1</td>\n",
       "      <td>0</td>\n",
       "      <td>0.84</td>\n",
       "      <td>0.16</td>\n",
       "    </tr>\n",
       "    <tr>\n",
       "      <th>104</th>\n",
       "      <td>0</td>\n",
       "      <td>0</td>\n",
       "      <td>0.77</td>\n",
       "      <td>0.23</td>\n",
       "    </tr>\n",
       "    <tr>\n",
       "      <th>86</th>\n",
       "      <td>0</td>\n",
       "      <td>1</td>\n",
       "      <td>0.35</td>\n",
       "      <td>0.65</td>\n",
       "    </tr>\n",
       "    <tr>\n",
       "      <th>32</th>\n",
       "      <td>1</td>\n",
       "      <td>0</td>\n",
       "      <td>0.83</td>\n",
       "      <td>0.17</td>\n",
       "    </tr>\n",
       "  </tbody>\n",
       "</table>\n",
       "</div>"
      ],
      "text/plain": [
       "     Test  Predicted     0     1\n",
       "95      1          1  0.25  0.75\n",
       "91      0          0  0.65  0.35\n",
       "78      0          0  0.95  0.05\n",
       "29      1          1  0.35  0.65\n",
       "61      0          0  0.66  0.34\n",
       "89      0          0  0.63  0.37\n",
       "45      1          0  0.84  0.16\n",
       "104     0          0  0.77  0.23\n",
       "86      0          1  0.35  0.65\n",
       "32      1          0  0.83  0.17"
      ]
     },
     "execution_count": 43,
     "metadata": {},
     "output_type": "execute_result"
    }
   ],
   "source": [
    "# Predicting the Test set results\n",
    "y_predc = classifier.predict(Xh_test)\n",
    "# Predict probabilities\n",
    "probs_y=classifier.predict_proba(Xh_test)### Print results \n",
    "probs_y = np.round(probs_y, 2)\n",
    "probs_y\n",
    "result = pd.DataFrame(probs_y, columns= np.unique(chd1.chd))\n",
    "predictedt_index = [np.argmax(result.iloc[i,:]) for i in range(result.shape[0])]\n",
    "predicted_names = [np.unique(chd1.chd)[i] for i in predictedt_index]\n",
    "result.insert(loc=0, column=\"Test\", value=yh_test)\n",
    "result.insert(loc=1, column ='Predicted', value=predicted_names)\n",
    "result.sample(10)"
   ]
  },
  {
   "cell_type": "code",
   "execution_count": 46,
   "id": "a50b54fd",
   "metadata": {},
   "outputs": [
    {
     "name": "stdout",
     "output_type": "stream",
     "text": [
      "[[68  9]\n",
      " [23 16]]\n"
     ]
    }
   ],
   "source": [
    "#Confusion matrix\n",
    "con_mat = confusion_matrix(yh_test, y_predc)\n",
    "print(con_mat)"
   ]
  },
  {
   "cell_type": "code",
   "execution_count": 47,
   "id": "fea2bbde",
   "metadata": {},
   "outputs": [
    {
     "name": "stdout",
     "output_type": "stream",
     "text": [
      "Accuracy: 0.7241379310344828\n"
     ]
    }
   ],
   "source": [
    "print(\"Accuracy:\",accuracy_score(yh_test, y_predc))"
   ]
  },
  {
   "cell_type": "markdown",
   "id": "f9f945fc",
   "metadata": {},
   "source": [
    "#### (c) Identify if the a patient with the following data is of high risk or not $x = [133, 3.3, 4.6, 34.5, present, 52, 30, 32, 20, 44]$."
   ]
  },
  {
   "cell_type": "code",
   "execution_count": 49,
   "id": "c9eb0163",
   "metadata": {},
   "outputs": [
    {
     "data": {
      "text/plain": [
       "array([0], dtype=int64)"
      ]
     },
     "execution_count": 49,
     "metadata": {},
     "output_type": "execute_result"
    }
   ],
   "source": [
    "xp=np.array([[133,3.3,4.6,34.5,1,52,30.32,20,44]])\n",
    "classifier.predict(xp)"
   ]
  },
  {
   "cell_type": "markdown",
   "id": "1b15d52d",
   "metadata": {},
   "source": [
    "Hence the  patient with the given data is not of high risk of contracting coronary diseases"
   ]
  },
  {
   "cell_type": "markdown",
   "id": "f59120c2",
   "metadata": {},
   "source": [
    "#### (d) Which are the most determinant factors for heart disease?"
   ]
  },
  {
   "cell_type": "code",
   "execution_count": 65,
   "id": "43392a8c",
   "metadata": {},
   "outputs": [
    {
     "name": "stdout",
     "output_type": "stream",
     "text": [
      "Feature: 0, Score: -0.01245\n",
      "Feature: 1, Score: 0.09902\n",
      "Feature: 2, Score: 0.09812\n",
      "Feature: 3, Score: 0.06722\n",
      "Feature: 4, Score: 0.73263\n",
      "Feature: 5, Score: 0.02440\n",
      "Feature: 6, Score: -0.16366\n",
      "Feature: 7, Score: -0.00246\n",
      "Feature: 8, Score: 0.03238\n"
     ]
    },
    {
     "data": {
      "image/png": "[encoded data removed]",
      "text/plain": [
       "<Figure size 432x288 with 1 Axes>"
      ]
     },
     "metadata": {
      "needs_background": "light"
     },
     "output_type": "display_data"
    }
   ],
   "source": [
    "# get importance\n",
    "importance = classifier.coef_[0]\n",
    "# summarize feature importance\n",
    "for i,v in enumerate(importance):\n",
    "    print('Feature: %0d, Score: %.5f' % (i,v))\n",
    "# plot feature importance\n",
    "plt.bar([x for x in range(len(importance))], importance)\n",
    "plt.show()"
   ]
  },
  {
   "cell_type": "markdown",
   "id": "01b65130",
   "metadata": {},
   "source": [
    "Feature 4(family history) tends to be the most determinat factor for heart disease"
   ]
  },
  {
   "cell_type": "markdown",
   "id": "88d4b704",
   "metadata": {},
   "source": [
    "#### (e) Does having a family history of coronary heart disease affect a patients chance of having coronary heart disease?"
   ]
  },
  {
   "cell_type": "markdown",
   "id": "e949c3f9",
   "metadata": {},
   "source": [
    "Yes ,because the feature importance plot bove indicates that family history of coronary heart disease affects a patients chance of having coronary heart disease"
   ]
  },
  {
   "cell_type": "markdown",
   "id": "b6bc4683",
   "metadata": {},
   "source": []
  }
 ],
 "metadata": {
  "kernelspec": {
   "display_name": "Python 3",
   "language": "python",
   "name": "python3"
  },
  "language_info": {
   "codemirror_mode": {
    "name": "ipython",
    "version": 3
   },
   "file_extension": ".py",
   "mimetype": "text/x-python",
   "name": "python",
   "nbconvert_exporter": "python",
   "pygments_lexer": "ipython3",
   "version": "3.8.8"
  }
 },
 "nbformat": 4,
 "nbformat_minor": 5
}
