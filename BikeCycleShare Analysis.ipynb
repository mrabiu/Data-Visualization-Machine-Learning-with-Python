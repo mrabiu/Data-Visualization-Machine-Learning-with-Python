{
 "cells": [
  {
   "cell_type": "markdown",
   "id": "79461148",
   "metadata": {},
   "source": [
    "In this project, we want to study the bike share system in Jersey City using the data provided by Citi Bike company. Questions such as \"Where do Citi Bikers ride?\" \"When do they ride?\" \"How far do they go?\" \"Which stations are most popular?\" \"What days of the week are most rides taken on?\" will be answered in this project using this rich data source.\n",
    "\n",
    "The Citi Bike System Data page gives the description of the information as follows:  \n",
    "\n",
    "    \n",
    "    Trip Duration (seconds)\n",
    "    Start Time and Date\n",
    "    Stop Time and Date\n",
    "    Start Station Name\n",
    "    End Station Name\n",
    "    Station ID\n",
    "    Station Lat/Long\n",
    "    Bike ID\n",
    "    User Type (Customer = 24-hour pass or single ride user; Subscriber = Annual Member)\n",
    "    Gender (Zero=unknown; 1=male; 2=female)\n",
    "    Year of Birth"
   ]
  },
  {
   "cell_type": "code",
   "execution_count": 232,
   "id": "3e85013f",
   "metadata": {},
   "outputs": [],
   "source": [
    "### Importing necessary libraries\n",
    "\n",
    "import pandas as pd\n",
    "import seaborn as sns\n",
    "import matplotlib.pyplot as plt\n",
    "import numpy as np"
   ]
  },
  {
   "cell_type": "markdown",
   "id": "337be3b2",
   "metadata": {},
   "source": [
    "For this project, we will use the 2016 bike share data for Jersey City which comprises of 12 months data. The files are uploaded in the next cell"
   ]
  },
  {
   "cell_type": "code",
   "execution_count": 233,
   "id": "281a122b",
   "metadata": {},
   "outputs": [],
   "source": [
    "####################  Merged dataset for the year 2016 ##########\n",
    "list_of_names=[\"JC-20161-citibike-tripdata.csv\",\"JC-20162-citibike-tripdata.csv\",\"JC-20163-citibike-tripdata.csv\",\"JC-201604-citibike-tripdata.csv\",\"JC-201605-citibike-tripdata.csv\",\"JC-201606-citibike-tripdata.csv\",\"JC-201607-citibike-tripdata.csv\",\"JC-201608-citibike-tripdata.csv\",\"JC-201609-citibike-tripdata.csv\",\"JC-201610-citibike-tripdata.csv\",\"JC-201611-citibike-tripdata.csv\",\"JC-201612-citibike-tripdata.csv\"]\n",
    "\n",
    "# create empty list\n",
    "dataframes_list = []\n",
    " \n",
    "# append datasets into the list\n",
    "for i in range(len(list_of_names)):\n",
    "    temp_df = pd.read_csv(\"C:/Users/USER/Desktop/AIMS RW/BikeShare/\"+list_of_names[i])\n",
    "    dataframes_list.append(temp_df)"
   ]
  },
  {
   "cell_type": "markdown",
   "id": "b0b7a2e7",
   "metadata": {},
   "source": [
    "We merge the data to form a single data frame for the whole year."
   ]
  },
  {
   "cell_type": "code",
   "execution_count": 234,
   "id": "e62606be",
   "metadata": {},
   "outputs": [],
   "source": [
    "df=pd.concat(dataframes_list)"
   ]
  },
  {
   "cell_type": "markdown",
   "id": "7e20f24f",
   "metadata": {},
   "source": [
    "We want to get the glimpse of the data in the next cells"
   ]
  },
  {
   "cell_type": "code",
   "execution_count": 235,
   "id": "398eab53",
   "metadata": {},
   "outputs": [
    {
     "name": "stdout",
     "output_type": "stream",
     "text": [
      "<class 'pandas.core.frame.DataFrame'>\n",
      "Int64Index: 247584 entries, 0 to 15113\n",
      "Data columns (total 15 columns):\n",
      " #   Column                   Non-Null Count   Dtype  \n",
      "---  ------                   --------------   -----  \n",
      " 0   Trip Duration            247584 non-null  int64  \n",
      " 1   Start Time               247584 non-null  object \n",
      " 2   Stop Time                247584 non-null  object \n",
      " 3   Start Station ID         247584 non-null  int64  \n",
      " 4   Start Station Name       247584 non-null  object \n",
      " 5   Start Station Latitude   247584 non-null  float64\n",
      " 6   Start Station Longitude  247584 non-null  float64\n",
      " 7   End Station ID           247584 non-null  int64  \n",
      " 8   End Station Name         247584 non-null  object \n",
      " 9   End Station Latitude     247584 non-null  float64\n",
      " 10  End Station Longitude    247584 non-null  float64\n",
      " 11  Bike ID                  247584 non-null  int64  \n",
      " 12  User Type                247204 non-null  object \n",
      " 13  Birth Year               228585 non-null  float64\n",
      " 14  Gender                   247584 non-null  int64  \n",
      "dtypes: float64(5), int64(5), object(5)\n",
      "memory usage: 30.2+ MB\n"
     ]
    }
   ],
   "source": [
    "df.info()"
   ]
  },
  {
   "cell_type": "markdown",
   "id": "9f57070e",
   "metadata": {},
   "source": [
    "It can be seen that the data has a total of 247584 with 15 columns and their corresponding data types.\n",
    "\n",
    "The types int64 and float64 indicate 64-bit integer and floating type values, object indicates strings.\n",
    "\n",
    "However, looking at the \"Non-Null Count\" columns indicate that some columns have fewer entries than others."
   ]
  },
  {
   "cell_type": "markdown",
   "id": "69497374",
   "metadata": {},
   "source": [
    "We check for null values across the dataframe"
   ]
  },
  {
   "cell_type": "code",
   "execution_count": 236,
   "id": "5d764791",
   "metadata": {},
   "outputs": [
    {
     "data": {
      "text/plain": [
       "Trip Duration                  0\n",
       "Start Time                     0\n",
       "Stop Time                      0\n",
       "Start Station ID               0\n",
       "Start Station Name             0\n",
       "Start Station Latitude         0\n",
       "Start Station Longitude        0\n",
       "End Station ID                 0\n",
       "End Station Name               0\n",
       "End Station Latitude           0\n",
       "End Station Longitude          0\n",
       "Bike ID                        0\n",
       "User Type                    380\n",
       "Birth Year                 18999\n",
       "Gender                         0\n",
       "dtype: int64"
      ]
     },
     "execution_count": 236,
     "metadata": {},
     "output_type": "execute_result"
    }
   ],
   "source": [
    "df.isnull().sum()"
   ]
  },
  {
   "cell_type": "markdown",
   "id": "ff18f073",
   "metadata": {},
   "source": [
    "We found 380 null values in the \"User Type\" column and another 18999 in the \"Birth Year\" column. We can simply drop the null values to have a clean data."
   ]
  },
  {
   "cell_type": "code",
   "execution_count": 237,
   "id": "3332e347",
   "metadata": {},
   "outputs": [
    {
     "name": "stdout",
     "output_type": "stream",
     "text": [
      "Null values removed successfully.\n"
     ]
    },
    {
     "data": {
      "text/plain": [
       "Trip Duration              0\n",
       "Start Time                 0\n",
       "Stop Time                  0\n",
       "Start Station ID           0\n",
       "Start Station Name         0\n",
       "Start Station Latitude     0\n",
       "Start Station Longitude    0\n",
       "End Station ID             0\n",
       "End Station Name           0\n",
       "End Station Latitude       0\n",
       "End Station Longitude      0\n",
       "Bike ID                    0\n",
       "User Type                  0\n",
       "Birth Year                 0\n",
       "Gender                     0\n",
       "dtype: int64"
      ]
     },
     "execution_count": 237,
     "metadata": {},
     "output_type": "execute_result"
    }
   ],
   "source": [
    "df = df.dropna(how='any',axis=0)\n",
    "\n",
    "print(\"Null values removed successfully.\")\n",
    "\n",
    "df.isnull().sum()"
   ]
  },
  {
   "cell_type": "markdown",
   "id": "345b20be",
   "metadata": {},
   "source": [
    "Further information especially on the numeric columns could be obtained as follows"
   ]
  },
  {
   "cell_type": "code",
   "execution_count": 238,
   "id": "a439572b",
   "metadata": {},
   "outputs": [
    {
     "data": {
      "text/html": [
       "<div>\n",
       "<style scoped>\n",
       "    .dataframe tbody tr th:only-of-type {\n",
       "        vertical-align: middle;\n",
       "    }\n",
       "\n",
       "    .dataframe tbody tr th {\n",
       "        vertical-align: top;\n",
       "    }\n",
       "\n",
       "    .dataframe thead th {\n",
       "        text-align: right;\n",
       "    }\n",
       "</style>\n",
       "<table border=\"1\" class=\"dataframe\">\n",
       "  <thead>\n",
       "    <tr style=\"text-align: right;\">\n",
       "      <th></th>\n",
       "      <th>Trip Duration</th>\n",
       "      <th>Start Station ID</th>\n",
       "      <th>Start Station Latitude</th>\n",
       "      <th>Start Station Longitude</th>\n",
       "      <th>End Station ID</th>\n",
       "      <th>End Station Latitude</th>\n",
       "      <th>End Station Longitude</th>\n",
       "      <th>Bike ID</th>\n",
       "      <th>Birth Year</th>\n",
       "      <th>Gender</th>\n",
       "    </tr>\n",
       "  </thead>\n",
       "  <tbody>\n",
       "    <tr>\n",
       "      <th>count</th>\n",
       "      <td>228205.00</td>\n",
       "      <td>228205.0</td>\n",
       "      <td>228205.00</td>\n",
       "      <td>228205.00</td>\n",
       "      <td>228205.0</td>\n",
       "      <td>228205.00</td>\n",
       "      <td>228205.00</td>\n",
       "      <td>228205.00</td>\n",
       "      <td>228205.00</td>\n",
       "      <td>228205.00</td>\n",
       "    </tr>\n",
       "    <tr>\n",
       "      <th>mean</th>\n",
       "      <td>742.37</td>\n",
       "      <td>3207.2</td>\n",
       "      <td>40.72</td>\n",
       "      <td>-74.05</td>\n",
       "      <td>3203.9</td>\n",
       "      <td>40.72</td>\n",
       "      <td>-74.05</td>\n",
       "      <td>24938.68</td>\n",
       "      <td>1979.33</td>\n",
       "      <td>1.22</td>\n",
       "    </tr>\n",
       "    <tr>\n",
       "      <th>std</th>\n",
       "      <td>36999.06</td>\n",
       "      <td>27.0</td>\n",
       "      <td>0.01</td>\n",
       "      <td>0.01</td>\n",
       "      <td>55.4</td>\n",
       "      <td>0.01</td>\n",
       "      <td>0.01</td>\n",
       "      <td>749.94</td>\n",
       "      <td>9.60</td>\n",
       "      <td>0.42</td>\n",
       "    </tr>\n",
       "    <tr>\n",
       "      <th>min</th>\n",
       "      <td>61.00</td>\n",
       "      <td>3183.0</td>\n",
       "      <td>40.69</td>\n",
       "      <td>-74.10</td>\n",
       "      <td>173.0</td>\n",
       "      <td>40.69</td>\n",
       "      <td>-74.10</td>\n",
       "      <td>14552.00</td>\n",
       "      <td>1900.00</td>\n",
       "      <td>0.00</td>\n",
       "    </tr>\n",
       "    <tr>\n",
       "      <th>25%</th>\n",
       "      <td>242.00</td>\n",
       "      <td>3186.0</td>\n",
       "      <td>40.72</td>\n",
       "      <td>-74.05</td>\n",
       "      <td>3186.0</td>\n",
       "      <td>40.72</td>\n",
       "      <td>-74.05</td>\n",
       "      <td>24491.00</td>\n",
       "      <td>1974.00</td>\n",
       "      <td>1.00</td>\n",
       "    </tr>\n",
       "    <tr>\n",
       "      <th>50%</th>\n",
       "      <td>370.00</td>\n",
       "      <td>3202.0</td>\n",
       "      <td>40.72</td>\n",
       "      <td>-74.04</td>\n",
       "      <td>3198.0</td>\n",
       "      <td>40.72</td>\n",
       "      <td>-74.04</td>\n",
       "      <td>24612.00</td>\n",
       "      <td>1981.00</td>\n",
       "      <td>1.00</td>\n",
       "    </tr>\n",
       "    <tr>\n",
       "      <th>75%</th>\n",
       "      <td>611.00</td>\n",
       "      <td>3211.0</td>\n",
       "      <td>40.73</td>\n",
       "      <td>-74.04</td>\n",
       "      <td>3211.0</td>\n",
       "      <td>40.73</td>\n",
       "      <td>-74.04</td>\n",
       "      <td>24719.00</td>\n",
       "      <td>1986.00</td>\n",
       "      <td>1.00</td>\n",
       "    </tr>\n",
       "    <tr>\n",
       "      <th>max</th>\n",
       "      <td>16329808.00</td>\n",
       "      <td>3426.0</td>\n",
       "      <td>40.75</td>\n",
       "      <td>-74.03</td>\n",
       "      <td>3426.0</td>\n",
       "      <td>40.80</td>\n",
       "      <td>-73.96</td>\n",
       "      <td>27274.00</td>\n",
       "      <td>2000.00</td>\n",
       "      <td>2.00</td>\n",
       "    </tr>\n",
       "  </tbody>\n",
       "</table>\n",
       "</div>"
      ],
      "text/plain": [
       "       Trip Duration  Start Station ID  Start Station Latitude  \\\n",
       "count      228205.00          228205.0               228205.00   \n",
       "mean          742.37            3207.2                   40.72   \n",
       "std         36999.06              27.0                    0.01   \n",
       "min            61.00            3183.0                   40.69   \n",
       "25%           242.00            3186.0                   40.72   \n",
       "50%           370.00            3202.0                   40.72   \n",
       "75%           611.00            3211.0                   40.73   \n",
       "max      16329808.00            3426.0                   40.75   \n",
       "\n",
       "       Start Station Longitude  End Station ID  End Station Latitude  \\\n",
       "count                228205.00        228205.0             228205.00   \n",
       "mean                    -74.05          3203.9                 40.72   \n",
       "std                       0.01            55.4                  0.01   \n",
       "min                     -74.10           173.0                 40.69   \n",
       "25%                     -74.05          3186.0                 40.72   \n",
       "50%                     -74.04          3198.0                 40.72   \n",
       "75%                     -74.04          3211.0                 40.73   \n",
       "max                     -74.03          3426.0                 40.80   \n",
       "\n",
       "       End Station Longitude    Bike ID  Birth Year     Gender  \n",
       "count              228205.00  228205.00   228205.00  228205.00  \n",
       "mean                  -74.05   24938.68     1979.33       1.22  \n",
       "std                     0.01     749.94        9.60       0.42  \n",
       "min                   -74.10   14552.00     1900.00       0.00  \n",
       "25%                   -74.05   24491.00     1974.00       1.00  \n",
       "50%                   -74.04   24612.00     1981.00       1.00  \n",
       "75%                   -74.04   24719.00     1986.00       1.00  \n",
       "max                   -73.96   27274.00     2000.00       2.00  "
      ]
     },
     "execution_count": 238,
     "metadata": {},
     "output_type": "execute_result"
    }
   ],
   "source": [
    "df.describe().round(2)"
   ]
  },
  {
   "cell_type": "markdown",
   "id": "676dde55",
   "metadata": {},
   "source": [
    "We can grasp many information just from the above summaries:\n",
    "    \n",
    "    \n",
    "Trip Duration has a minimum of 61 (seconds) as City Bike ignores any trip less than a minute. However, the maximum duration is 16329808.00 is very higher than the minimum, such kind of the extremes will affect the average value and the whole computation, so, we need to convert it into another unit for example in minutes for better analysis.\n",
    "    \n",
    "The columns of Start/Stop time were missing here as we saw earlier they are object type, thus they need to be converted to timestamp for us to handle them appropriateley.\n",
    "\n",
    "The minimum Birth Year shows 1900, so, by 2016 the person is 116 year old, that is an outlier which needs to be dropped."
   ]
  },
  {
   "cell_type": "markdown",
   "id": "1818df25",
   "metadata": {},
   "source": [
    "#### Data Analysis\n",
    "\n",
    "As we saw ealier, we can get additional information about the data in the data frame about each column showing its name, number of unique values, its data type and the amount of memory that column consumes."
   ]
  },
  {
   "cell_type": "code",
   "execution_count": 239,
   "id": "a4cda975",
   "metadata": {},
   "outputs": [
    {
     "data": {
      "text/html": [
       "<div>\n",
       "<style scoped>\n",
       "    .dataframe tbody tr th:only-of-type {\n",
       "        vertical-align: middle;\n",
       "    }\n",
       "\n",
       "    .dataframe tbody tr th {\n",
       "        vertical-align: top;\n",
       "    }\n",
       "\n",
       "    .dataframe thead th {\n",
       "        text-align: right;\n",
       "    }\n",
       "</style>\n",
       "<table border=\"1\" class=\"dataframe\">\n",
       "  <thead>\n",
       "    <tr style=\"text-align: right;\">\n",
       "      <th></th>\n",
       "      <th>Column Name</th>\n",
       "      <th>Unique</th>\n",
       "      <th>Data Type</th>\n",
       "      <th>Memory Usage</th>\n",
       "    </tr>\n",
       "  </thead>\n",
       "  <tbody>\n",
       "    <tr>\n",
       "      <th>0</th>\n",
       "      <td>Trip Duration</td>\n",
       "      <td>4341</td>\n",
       "      <td>int64</td>\n",
       "      <td>3651280</td>\n",
       "    </tr>\n",
       "    <tr>\n",
       "      <th>1</th>\n",
       "      <td>Start Time</td>\n",
       "      <td>225494</td>\n",
       "      <td>object</td>\n",
       "      <td>19169220</td>\n",
       "    </tr>\n",
       "    <tr>\n",
       "      <th>2</th>\n",
       "      <td>Stop Time</td>\n",
       "      <td>225396</td>\n",
       "      <td>object</td>\n",
       "      <td>19169220</td>\n",
       "    </tr>\n",
       "    <tr>\n",
       "      <th>3</th>\n",
       "      <td>Start Station ID</td>\n",
       "      <td>51</td>\n",
       "      <td>int64</td>\n",
       "      <td>3651280</td>\n",
       "    </tr>\n",
       "    <tr>\n",
       "      <th>4</th>\n",
       "      <td>Start Station Name</td>\n",
       "      <td>51</td>\n",
       "      <td>object</td>\n",
       "      <td>17707563</td>\n",
       "    </tr>\n",
       "    <tr>\n",
       "      <th>5</th>\n",
       "      <td>Start Station Latitude</td>\n",
       "      <td>51</td>\n",
       "      <td>float64</td>\n",
       "      <td>3651280</td>\n",
       "    </tr>\n",
       "    <tr>\n",
       "      <th>6</th>\n",
       "      <td>Start Station Longitude</td>\n",
       "      <td>51</td>\n",
       "      <td>float64</td>\n",
       "      <td>3651280</td>\n",
       "    </tr>\n",
       "    <tr>\n",
       "      <th>7</th>\n",
       "      <td>End Station ID</td>\n",
       "      <td>90</td>\n",
       "      <td>int64</td>\n",
       "      <td>3651280</td>\n",
       "    </tr>\n",
       "    <tr>\n",
       "      <th>8</th>\n",
       "      <td>End Station Name</td>\n",
       "      <td>90</td>\n",
       "      <td>object</td>\n",
       "      <td>17712343</td>\n",
       "    </tr>\n",
       "    <tr>\n",
       "      <th>9</th>\n",
       "      <td>End Station Latitude</td>\n",
       "      <td>90</td>\n",
       "      <td>float64</td>\n",
       "      <td>3651280</td>\n",
       "    </tr>\n",
       "    <tr>\n",
       "      <th>10</th>\n",
       "      <td>End Station Longitude</td>\n",
       "      <td>90</td>\n",
       "      <td>float64</td>\n",
       "      <td>3651280</td>\n",
       "    </tr>\n",
       "    <tr>\n",
       "      <th>11</th>\n",
       "      <td>Bike ID</td>\n",
       "      <td>563</td>\n",
       "      <td>int64</td>\n",
       "      <td>3651280</td>\n",
       "    </tr>\n",
       "    <tr>\n",
       "      <th>12</th>\n",
       "      <td>User Type</td>\n",
       "      <td>2</td>\n",
       "      <td>object</td>\n",
       "      <td>17115273</td>\n",
       "    </tr>\n",
       "    <tr>\n",
       "      <th>13</th>\n",
       "      <td>Birth Year</td>\n",
       "      <td>64</td>\n",
       "      <td>float64</td>\n",
       "      <td>3651280</td>\n",
       "    </tr>\n",
       "    <tr>\n",
       "      <th>14</th>\n",
       "      <td>Gender</td>\n",
       "      <td>3</td>\n",
       "      <td>int64</td>\n",
       "      <td>3651280</td>\n",
       "    </tr>\n",
       "  </tbody>\n",
       "</table>\n",
       "</div>"
      ],
      "text/plain": [
       "                Column Name  Unique Data Type  Memory Usage\n",
       "0             Trip Duration    4341     int64       3651280\n",
       "1                Start Time  225494    object      19169220\n",
       "2                 Stop Time  225396    object      19169220\n",
       "3          Start Station ID      51     int64       3651280\n",
       "4        Start Station Name      51    object      17707563\n",
       "5    Start Station Latitude      51   float64       3651280\n",
       "6   Start Station Longitude      51   float64       3651280\n",
       "7            End Station ID      90     int64       3651280\n",
       "8          End Station Name      90    object      17712343\n",
       "9      End Station Latitude      90   float64       3651280\n",
       "10    End Station Longitude      90   float64       3651280\n",
       "11                  Bike ID     563     int64       3651280\n",
       "12                User Type       2    object      17115273\n",
       "13               Birth Year      64   float64       3651280\n",
       "14                   Gender       3     int64       3651280"
      ]
     },
     "execution_count": 239,
     "metadata": {},
     "output_type": "execute_result"
    }
   ],
   "source": [
    "pd.DataFrame.from_records([(col, df[col].nunique(), df[col].dtype, df[col].memory_usage(deep=True) )  for col in df.columns],\n",
    "  columns=['Column Name', 'Unique', 'Data Type','Memory Usage'])"
   ]
  },
  {
   "cell_type": "markdown",
   "id": "76613f30",
   "metadata": {},
   "source": [
    "\n",
    "\n",
    "Here it can be seen that the columns with a data type of object take up larger memory space than the integer or float data types. We can adress this problem in order to free up the memory for faster computatios.\n",
    "\n",
    "One way is to convert those columns into categorical variables."
   ]
  },
  {
   "cell_type": "code",
   "execution_count": 240,
   "id": "319c2615",
   "metadata": {},
   "outputs": [],
   "source": [
    "df['Start Time'] = pd.to_datetime(df['Start Time'])\n",
    "df['Stop Time'] = pd.to_datetime(df['Stop Time'])"
   ]
  },
  {
   "cell_type": "code",
   "execution_count": 241,
   "id": "5c97a1f3",
   "metadata": {},
   "outputs": [],
   "source": [
    "cols = ['Start Station Name', 'End Station Name', 'User Type']\n",
    "for col in cols:\n",
    "    df[col] = df[col].astype('category')"
   ]
  },
  {
   "cell_type": "code",
   "execution_count": 242,
   "id": "495a9264",
   "metadata": {},
   "outputs": [
    {
     "data": {
      "text/html": [
       "<div>\n",
       "<style scoped>\n",
       "    .dataframe tbody tr th:only-of-type {\n",
       "        vertical-align: middle;\n",
       "    }\n",
       "\n",
       "    .dataframe tbody tr th {\n",
       "        vertical-align: top;\n",
       "    }\n",
       "\n",
       "    .dataframe thead th {\n",
       "        text-align: right;\n",
       "    }\n",
       "</style>\n",
       "<table border=\"1\" class=\"dataframe\">\n",
       "  <thead>\n",
       "    <tr style=\"text-align: right;\">\n",
       "      <th></th>\n",
       "      <th>Column Name</th>\n",
       "      <th>Unique</th>\n",
       "      <th>Data Type</th>\n",
       "      <th>Memory Usage</th>\n",
       "    </tr>\n",
       "  </thead>\n",
       "  <tbody>\n",
       "    <tr>\n",
       "      <th>0</th>\n",
       "      <td>Trip Duration</td>\n",
       "      <td>4341</td>\n",
       "      <td>int64</td>\n",
       "      <td>3651280</td>\n",
       "    </tr>\n",
       "    <tr>\n",
       "      <th>1</th>\n",
       "      <td>Start Time</td>\n",
       "      <td>225494</td>\n",
       "      <td>datetime64[ns]</td>\n",
       "      <td>3651280</td>\n",
       "    </tr>\n",
       "    <tr>\n",
       "      <th>2</th>\n",
       "      <td>Stop Time</td>\n",
       "      <td>225396</td>\n",
       "      <td>datetime64[ns]</td>\n",
       "      <td>3651280</td>\n",
       "    </tr>\n",
       "    <tr>\n",
       "      <th>3</th>\n",
       "      <td>Start Station ID</td>\n",
       "      <td>51</td>\n",
       "      <td>int64</td>\n",
       "      <td>3651280</td>\n",
       "    </tr>\n",
       "    <tr>\n",
       "      <th>4</th>\n",
       "      <td>Start Station Name</td>\n",
       "      <td>51</td>\n",
       "      <td>category</td>\n",
       "      <td>2059534</td>\n",
       "    </tr>\n",
       "    <tr>\n",
       "      <th>5</th>\n",
       "      <td>Start Station Latitude</td>\n",
       "      <td>51</td>\n",
       "      <td>float64</td>\n",
       "      <td>3651280</td>\n",
       "    </tr>\n",
       "    <tr>\n",
       "      <th>6</th>\n",
       "      <td>Start Station Longitude</td>\n",
       "      <td>51</td>\n",
       "      <td>float64</td>\n",
       "      <td>3651280</td>\n",
       "    </tr>\n",
       "    <tr>\n",
       "      <th>7</th>\n",
       "      <td>End Station ID</td>\n",
       "      <td>90</td>\n",
       "      <td>int64</td>\n",
       "      <td>3651280</td>\n",
       "    </tr>\n",
       "    <tr>\n",
       "      <th>8</th>\n",
       "      <td>End Station Name</td>\n",
       "      <td>90</td>\n",
       "      <td>category</td>\n",
       "      <td>2062557</td>\n",
       "    </tr>\n",
       "    <tr>\n",
       "      <th>9</th>\n",
       "      <td>End Station Latitude</td>\n",
       "      <td>90</td>\n",
       "      <td>float64</td>\n",
       "      <td>3651280</td>\n",
       "    </tr>\n",
       "    <tr>\n",
       "      <th>10</th>\n",
       "      <td>End Station Longitude</td>\n",
       "      <td>90</td>\n",
       "      <td>float64</td>\n",
       "      <td>3651280</td>\n",
       "    </tr>\n",
       "    <tr>\n",
       "      <th>11</th>\n",
       "      <td>Bike ID</td>\n",
       "      <td>563</td>\n",
       "      <td>int64</td>\n",
       "      <td>3651280</td>\n",
       "    </tr>\n",
       "    <tr>\n",
       "      <th>12</th>\n",
       "      <td>User Type</td>\n",
       "      <td>2</td>\n",
       "      <td>category</td>\n",
       "      <td>2054085</td>\n",
       "    </tr>\n",
       "    <tr>\n",
       "      <th>13</th>\n",
       "      <td>Birth Year</td>\n",
       "      <td>64</td>\n",
       "      <td>float64</td>\n",
       "      <td>3651280</td>\n",
       "    </tr>\n",
       "    <tr>\n",
       "      <th>14</th>\n",
       "      <td>Gender</td>\n",
       "      <td>3</td>\n",
       "      <td>int64</td>\n",
       "      <td>3651280</td>\n",
       "    </tr>\n",
       "  </tbody>\n",
       "</table>\n",
       "</div>"
      ],
      "text/plain": [
       "                Column Name  Unique       Data Type  Memory Usage\n",
       "0             Trip Duration    4341           int64       3651280\n",
       "1                Start Time  225494  datetime64[ns]       3651280\n",
       "2                 Stop Time  225396  datetime64[ns]       3651280\n",
       "3          Start Station ID      51           int64       3651280\n",
       "4        Start Station Name      51        category       2059534\n",
       "5    Start Station Latitude      51         float64       3651280\n",
       "6   Start Station Longitude      51         float64       3651280\n",
       "7            End Station ID      90           int64       3651280\n",
       "8          End Station Name      90        category       2062557\n",
       "9      End Station Latitude      90         float64       3651280\n",
       "10    End Station Longitude      90         float64       3651280\n",
       "11                  Bike ID     563           int64       3651280\n",
       "12                User Type       2        category       2054085\n",
       "13               Birth Year      64         float64       3651280\n",
       "14                   Gender       3           int64       3651280"
      ]
     },
     "execution_count": 242,
     "metadata": {},
     "output_type": "execute_result"
    }
   ],
   "source": [
    "pd.DataFrame.from_records([(col, df[col].nunique(), df[col].dtype, df[col].memory_usage(deep=True) )  for col in df.columns],\n",
    "  columns=['Column Name', 'Unique', 'Data Type','Memory Usage'])"
   ]
  },
  {
   "cell_type": "markdown",
   "id": "e546848a",
   "metadata": {},
   "source": [
    "The new result shows that the converted columns use smaller portion of the memory space as we desired."
   ]
  },
  {
   "cell_type": "markdown",
   "id": "3bf4955b",
   "metadata": {},
   "source": [
    "#### Analysing By User Type\n"
   ]
  },
  {
   "cell_type": "code",
   "execution_count": 243,
   "id": "88245ff2",
   "metadata": {},
   "outputs": [
    {
     "data": {
      "text/plain": [
       "Subscriber    228154\n",
       "Customer          51\n",
       "Name: User Type, dtype: int64"
      ]
     },
     "execution_count": 243,
     "metadata": {},
     "output_type": "execute_result"
    }
   ],
   "source": [
    "df['User Type'].value_counts()"
   ]
  },
  {
   "cell_type": "markdown",
   "id": "00f9383d",
   "metadata": {},
   "source": [
    "It is obvious that majority of the riders are subscribers with very small fraction as customers. So, we'd not focus much on the difference in the activities of the two groups"
   ]
  },
  {
   "cell_type": "markdown",
   "id": "9c6337e0",
   "metadata": {},
   "source": [
    "#### Analysing Trip Duration\n",
    "\n",
    "We want to know what the most common trip duration times are. The Trip Duration column is stored in seconds which is going to be converted to minues as a new column with a nane Trip minutes."
   ]
  },
  {
   "cell_type": "code",
   "execution_count": 244,
   "id": "bbecd537",
   "metadata": {},
   "outputs": [
    {
     "data": {
      "text/plain": [
       "<seaborn.axisgrid.FacetGrid at 0x66996640>"
      ]
     },
     "execution_count": 244,
     "metadata": {},
     "output_type": "execute_result"
    },
    {
     "data": {
      "image/png": "[encoded data removed]",
      "text/plain": [
       "<Figure size 720x360 with 1 Axes>"
      ]
     },
     "metadata": {
      "needs_background": "light"
     },
     "output_type": "display_data"
    }
   ],
   "source": [
    "df['Trip minutes'] = df['Trip Duration'] // 60\n",
    "sns.displot(data=df,x=\"Trip minutes\", bins=range(1,61), aspect=10/5)"
   ]
  },
  {
   "cell_type": "markdown",
   "id": "73e99653",
   "metadata": {},
   "source": [
    "This chart shows that the most common trip is five minutes long (the tallest bar) followed by four and six minutes (the bars before and after that one). After that the chart shows a classic “long tail” of fewer trips for longer rides."
   ]
  },
  {
   "cell_type": "markdown",
   "id": "2b2b0a1d",
   "metadata": {},
   "source": [
    "##### By Hour, Day and Month\n",
    "\n",
    "Now we'd like to know the pattern of the trips across the daily hours, days of the month and the 12 months of the year."
   ]
  },
  {
   "cell_type": "code",
   "execution_count": 245,
   "id": "16d01195",
   "metadata": {},
   "outputs": [],
   "source": [
    "df['start hour']=df['Start Time'].dt.hour.astype('category')\n",
    "df['start day']=df['Start Time'].dt.day.astype('category') \n",
    "df['weekday']=df['Start Time'].dt.weekday.astype('category')\n",
    "df['month_num']=df['Start Time'].dt.month.astype('category')"
   ]
  },
  {
   "cell_type": "code",
   "execution_count": 246,
   "id": "4676f29c",
   "metadata": {},
   "outputs": [
    {
     "data": {
      "text/plain": [
       "['January', 'February', 'March', 'April', 'May', ..., 'August', 'September', 'October', 'November', 'December']\n",
       "Length: 12\n",
       "Categories (12, object): ['January', 'February', 'March', 'April', ..., 'September', 'October', 'November', 'December']"
      ]
     },
     "execution_count": 246,
     "metadata": {},
     "output_type": "execute_result"
    }
   ],
   "source": [
    "month_dict = {1:\"January\", 2:\"February\", 3:\"March\", 4:\"April\", 5:\"May\", 6:\"June\", 7:\"July\", 8:\"August\", 9:\"September\", 10:\"October\", 11:\"November\", 12:\"December\"}\n",
    "df[\"start_month_name\"]= df[\"month_num\"].apply(lambda y:month_dict[y])\n",
    "df[\"start_month_name\"].unique()"
   ]
  },
  {
   "cell_type": "code",
   "execution_count": 247,
   "id": "42270369",
   "metadata": {},
   "outputs": [
    {
     "data": {
      "text/plain": [
       "[4, 5, 6, 0, 1, 2, 3]\n",
       "Categories (7, int64): [4, 5, 6, 0, 1, 2, 3]"
      ]
     },
     "execution_count": 247,
     "metadata": {},
     "output_type": "execute_result"
    },
    {
     "data": {
      "image/png": "[encoded data removed]",
      "text/plain": [
       "<Figure size 864x360 with 1 Axes>"
      ]
     },
     "metadata": {
      "needs_background": "light"
     },
     "output_type": "display_data"
    }
   ],
   "source": [
    "plt.figure(figsize=(12,5))\n",
    "sns.countplot(data=df, x=\"start hour\")\n",
    "df.weekday.unique()"
   ]
  },
  {
   "cell_type": "markdown",
   "id": "2697c618",
   "metadata": {},
   "source": [
    "As expected, we can see the peak of rides at the morning and evening rush hours."
   ]
  },
  {
   "cell_type": "code",
   "execution_count": 248,
   "id": "863c5ed0",
   "metadata": {},
   "outputs": [
    {
     "data": {
      "text/plain": [
       "array(['Friday', 'Saturday', 'Sunday', 'Monday', 'Tuesday', 'Wednesday',\n",
       "       'Thursday'], dtype=object)"
      ]
     },
     "execution_count": 248,
     "metadata": {},
     "output_type": "execute_result"
    }
   ],
   "source": [
    "import datetime as dt\n",
    "\n",
    "df[\"start_day_name\"]= df[[\"Start Time\"]].apply(lambda x: dt.datetime.strftime(x['Start Time'], \"%A\"), axis=1)\n",
    "df.start_day_name.unique()"
   ]
  },
  {
   "cell_type": "code",
   "execution_count": 249,
   "id": "f37a86a1",
   "metadata": {},
   "outputs": [
    {
     "data": {
      "text/plain": [
       "array(['Friday', 'Saturday', 'Sunday', 'Monday', 'Tuesday', 'Wednesday',\n",
       "       'Thursday'], dtype=object)"
      ]
     },
     "execution_count": 249,
     "metadata": {},
     "output_type": "execute_result"
    },
    {
     "data": {
      "image/png": "[encoded data removed]",
      "text/plain": [
       "<Figure size 864x432 with 1 Axes>"
      ]
     },
     "metadata": {
      "needs_background": "light"
     },
     "output_type": "display_data"
    }
   ],
   "source": [
    "plt.figure(figsize=(12,6))\n",
    "sns.countplot(data=df, x=\"start_day_name\")\n",
    "df.start_day_name.unique()"
   ]
  },
  {
   "cell_type": "markdown",
   "id": "afe46452",
   "metadata": {},
   "source": [
    "The above chart shows that the riders mostly use the bikes during the workdays especially on Wednesday, followed by Tuesday and Thursday. On the other hand, there were few rides on the weekend."
   ]
  },
  {
   "cell_type": "code",
   "execution_count": 250,
   "id": "7dab60e7",
   "metadata": {},
   "outputs": [
    {
     "data": {
      "text/plain": [
       "array(['Friday', 'Saturday', 'Sunday', 'Monday', 'Tuesday', 'Wednesday',\n",
       "       'Thursday'], dtype=object)"
      ]
     },
     "execution_count": 250,
     "metadata": {},
     "output_type": "execute_result"
    },
    {
     "data": {
      "image/png": "[encoded data removed]",
      "text/plain": [
       "<Figure size 864x432 with 1 Axes>"
      ]
     },
     "metadata": {
      "needs_background": "light"
     },
     "output_type": "display_data"
    }
   ],
   "source": [
    "plt.figure(figsize=(12,6))\n",
    "sns.countplot(data=df, x=\"start_month_name\")\n",
    "df.start_day_name.unique()"
   ]
  },
  {
   "cell_type": "markdown",
   "id": "f76c9fe1",
   "metadata": {},
   "source": [
    "The pattern exhibits by the riders across the indicates that the months have a huge variation in terms of riding activities.\n",
    "The riding has its peak in August and September, which then falls from October until January, the activities dramatically rises from March through September. This is in concord with Mark Martinez's result, that weather has impact on bikesharing activities. He conducted his researc on the same bikesharing operator we are considering, Citi Bike, on its New York City and Jersey City data from 2013 to 2015. His research found that weather variables such as temperature, precipitation, snowfall and wind speed have impact on bikesharing. He further explained that riders are detered from using bikes when there is high precipitation, extra snowfall and high wind speed.\n",
    "\n",
    "\n",
    "#### References\n",
    "\n",
    "\"The Impact Weather Has on NYC Citi Bike Share Company Activity,\"\n",
    "Journal of\n",
    "Environmental and Resource Economics at Colby: Vol. 4 : Iss. 1 , Article 12.\n",
    "Available at: https://digitalcommons.colby.edu/jerec/vol4/iss1/12"
   ]
  },
  {
   "cell_type": "code",
   "execution_count": 251,
   "id": "bdb49c02",
   "metadata": {},
   "outputs": [
    {
     "data": {
      "text/plain": [
       "<matplotlib.collections.PathCollection at 0x5bc419a0>"
      ]
     },
     "execution_count": 251,
     "metadata": {},
     "output_type": "execute_result"
    },
    {
     "data": {
      "image/png": "[encoded data removed]",
      "text/plain": [
       "<Figure size 432x288 with 1 Axes>"
      ]
     },
     "metadata": {
      "needs_background": "light"
     },
     "output_type": "display_data"
    }
   ],
   "source": [
    "##### Average Monthly temperature for the year 2016 for New Jersey state, obtained from NJ State Climatologist bwebsite : climate.rutgers.edu\n",
    "\n",
    "\n",
    "JC_2016_monthly_avg_temp=[31.4, 36,47,50.7,60.2,70.6,77.2,76.9,69.7,56.7,46.7,36.3]\n",
    "x = JC_2016_monthly_avg_temp\n",
    "y=np.arange(0, 12,1)\n",
    "plt.scatter(y,x, marker=\"*\")\n"
   ]
  },
  {
   "cell_type": "markdown",
   "id": "f206e10e",
   "metadata": {},
   "source": [
    "The pattern resembles the pattern exhibit by the riders in Jersey City, which further confirms that the weather has impact on the bike share activities."
   ]
  },
  {
   "cell_type": "markdown",
   "id": "25bf4114",
   "metadata": {},
   "source": [
    "#### Trip across stations\n",
    "\n",
    "We'd like to know which of the stations is freweuntly used\n"
   ]
  },
  {
   "cell_type": "code",
   "execution_count": 224,
   "id": "16df02fc",
   "metadata": {},
   "outputs": [
    {
     "data": {
      "text/plain": [
       "<AxesSubplot:>"
      ]
     },
     "execution_count": 224,
     "metadata": {},
     "output_type": "execute_result"
    },
    {
     "data": {
      "image/png": "[encoded data removed]",
      "text/plain": [
       "<Figure size 864x720 with 1 Axes>"
      ]
     },
     "metadata": {
      "needs_background": "light"
     },
     "output_type": "display_data"
    }
   ],
   "source": [
    "startstation = df['Start Station Name'].value_counts()[:20]\n",
    "plt.figure(figsize=(12,10))\n",
    "\n",
    "\n",
    "sns.barplot(x=startstation.values , y=list(startstation.index), \n",
    " orient=\"h\")"
   ]
  },
  {
   "cell_type": "markdown",
   "id": "41707420",
   "metadata": {},
   "source": [
    "The chart shows that \"Grove St PATH\" emergs the most frequent station used by riders which comes with no surprise since it is situated along the Grove Street Rail Station in the Downtown neighborhood of Jersey City."
   ]
  },
  {
   "cell_type": "markdown",
   "id": "b8955194",
   "metadata": {},
   "source": [
    "#### Birth Year Analysis\n"
   ]
  },
  {
   "cell_type": "code",
   "execution_count": 225,
   "id": "27e6600e",
   "metadata": {},
   "outputs": [
    {
     "data": {
      "text/plain": [
       "<seaborn.axisgrid.FacetGrid at 0x5f90d4f0>"
      ]
     },
     "execution_count": 225,
     "metadata": {},
     "output_type": "execute_result"
    },
    {
     "data": {
      "image/png": "[encoded data removed]",
      "text/plain": [
       "<Figure size 720x360 with 1 Axes>"
      ]
     },
     "metadata": {
      "needs_background": "light"
     },
     "output_type": "display_data"
    }
   ],
   "source": [
    "sns.displot(data=df, x=\"Birth Year\" , bins=range(1946,2004),  aspect=10/5)"
   ]
  },
  {
   "cell_type": "markdown",
   "id": "d73cd7a5",
   "metadata": {},
   "source": [
    "The distribution above shows that the birth year of the riders is skewed. Indicating that the younger riders tend to use bikes more than the older ones."
   ]
  },
  {
   "cell_type": "markdown",
   "id": "6ffc72f2",
   "metadata": {},
   "source": [
    "#### Trip Distances\n",
    "\n",
    "To find the distances covered by each rider, we'll use the Haversine Formula which calculates the “great circle” distance between any two points on earth."
   ]
  },
  {
   "cell_type": "code",
   "execution_count": 226,
   "id": "a7906da3",
   "metadata": {},
   "outputs": [],
   "source": [
    "import numpy as np\n",
    "\n",
    "def haversine(lat1, lon1, lat2, lon2):\n",
    "    \n",
    "    lon1, lat1, lon2, lat2 = \\\n",
    "    map(np.radians ,[lon1, lat1, lon2, lat2])\n",
    "    h = np.sin((lat2-lat1)/2.0)**2 + np.cos(lat1) * np.cos(lat2) * np.sin((lon2-lon1)/2.0)**2    \n",
    "    miles = 3959 * (2 * np.arcsin(np.sqrt(h)))\n",
    "    \n",
    "    return miles"
   ]
  },
  {
   "cell_type": "code",
   "execution_count": 227,
   "id": "bb4bfea5",
   "metadata": {},
   "outputs": [
    {
     "data": {
      "text/plain": [
       "<seaborn.axisgrid.FacetGrid at 0x5f78c310>"
      ]
     },
     "execution_count": 227,
     "metadata": {},
     "output_type": "execute_result"
    },
    {
     "data": {
      "image/png": "[encoded data removed]",
      "text/plain": [
       "<Figure size 720x360 with 1 Axes>"
      ]
     },
     "metadata": {
      "needs_background": "light"
     },
     "output_type": "display_data"
    }
   ],
   "source": [
    "distance = haversine(df['Start Station Latitude'],df['Start Station Longitude'],df['End Station Latitude'],df['End Station Longitude'])\n",
    "df['distance'] = distance\n",
    "sns.displot(data=df, x=\"distance\",  aspect=10/5)\n"
   ]
  },
  {
   "cell_type": "markdown",
   "id": "456d01ba",
   "metadata": {},
   "source": [
    "The chart shows that most of the riders drive less than 1 miles, approximately half mile. This shows that riders take ride for short journeys."
   ]
  },
  {
   "cell_type": "markdown",
   "id": "b27a8426",
   "metadata": {},
   "source": [
    "#### Speed analysis\n",
    "Further analysis using the speed of the riders will help us get more insights about the trip activities"
   ]
  },
  {
   "cell_type": "code",
   "execution_count": 228,
   "id": "751bc1cd",
   "metadata": {},
   "outputs": [],
   "source": [
    "df['Speed']=np.round((df['distance']/df['Trip Duration'])*5793.64,6)"
   ]
  },
  {
   "cell_type": "code",
   "execution_count": 229,
   "id": "a7cf9cbf",
   "metadata": {},
   "outputs": [
    {
     "data": {
      "text/plain": [
       "<seaborn.axisgrid.FacetGrid at 0x5fb65190>"
      ]
     },
     "execution_count": 229,
     "metadata": {},
     "output_type": "execute_result"
    },
    {
     "data": {
      "image/png": "[encoded data removed]",
      "text/plain": [
       "<Figure size 720x360 with 1 Axes>"
      ]
     },
     "metadata": {
      "needs_background": "light"
     },
     "output_type": "display_data"
    }
   ],
   "source": [
    "sns.displot(data=df, x=\"Speed\",  aspect=10/5)\n"
   ]
  },
  {
   "cell_type": "markdown",
   "id": "857da4cc",
   "metadata": {},
   "source": [
    "An interesting fact emerges from the distribution of the speeds of the riders in km/hr. We can see that many riders drive at almost 0 km/hr that makes sense especially for those who ride for leisure. We can chech further the kind of people in the group. \n",
    "Another thing we can see is that the speed is generally normally distributed among the riders. We can derive moe facts if we drop the zero speed riders"
   ]
  },
  {
   "cell_type": "code",
   "execution_count": 230,
   "id": "2b67bef5",
   "metadata": {},
   "outputs": [
    {
     "data": {
      "text/plain": [
       "<seaborn.axisgrid.FacetGrid at 0x61d14ac0>"
      ]
     },
     "execution_count": 230,
     "metadata": {},
     "output_type": "execute_result"
    },
    {
     "data": {
      "image/png": "[encoded data removed]",
      "text/plain": [
       "<Figure size 720x360 with 1 Axes>"
      ]
     },
     "metadata": {
      "needs_background": "light"
     },
     "output_type": "display_data"
    }
   ],
   "source": [
    "m=df[df['Speed']!=0]['Speed']\n",
    "sns.displot(x=m,  aspect=10/5)\n"
   ]
  },
  {
   "cell_type": "code",
   "execution_count": 231,
   "id": "74aab8f2",
   "metadata": {},
   "outputs": [
    {
     "data": {
      "text/plain": [
       "count    228205.000000\n",
       "mean          9.091892\n",
       "std           3.596922\n",
       "min           0.000000\n",
       "25%           7.342635\n",
       "50%           9.404101\n",
       "75%          11.365206\n",
       "max          25.417534\n",
       "Name: Speed, dtype: float64"
      ]
     },
     "execution_count": 231,
     "metadata": {},
     "output_type": "execute_result"
    }
   ],
   "source": [
    "df['Speed'].describe()"
   ]
  },
  {
   "cell_type": "markdown",
   "id": "ed06e2a2",
   "metadata": {},
   "source": [
    "We can observe that the average speed is 9km/hr"
   ]
  },
  {
   "cell_type": "code",
   "execution_count": null,
   "id": "10616485",
   "metadata": {},
   "outputs": [],
   "source": []
  },
  {
   "cell_type": "code",
   "execution_count": null,
   "id": "b58a6fd3",
   "metadata": {},
   "outputs": [],
   "source": []
  }
 ],
 "metadata": {
  "kernelspec": {
   "display_name": "Python 3",
   "language": "python",
   "name": "python3"
  },
  "language_info": {
   "codemirror_mode": {
    "name": "ipython",
    "version": 3
   },
   "file_extension": ".py",
   "mimetype": "text/x-python",
   "name": "python",
   "nbconvert_exporter": "python",
   "pygments_lexer": "ipython3",
   "version": "3.8.8"
  }
 },
 "nbformat": 4,
 "nbformat_minor": 5
}
